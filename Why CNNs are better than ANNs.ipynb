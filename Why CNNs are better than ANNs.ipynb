{
 "cells": [
  {
   "cell_type": "markdown",
   "metadata": {},
   "source": [
    "### Importing Libraries"
   ]
  },
  {
   "cell_type": "code",
   "execution_count": 1,
   "metadata": {},
   "outputs": [],
   "source": [
    "import tensorflow as tf\n",
    "import numpy as np\n",
    "import matplotlib.pyplot as plt\n",
    "%matplotlib inline"
   ]
  },
  {
   "cell_type": "markdown",
   "metadata": {},
   "source": [
    "### Loading and Preparing data"
   ]
  },
  {
   "cell_type": "markdown",
   "metadata": {},
   "source": [
    "We will be using a very common dataset called CIFAR-10 that has 60,000 images (50,000 for training and 10,000 for testing) separated into 10 classes. The classes are as follows\n",
    "\n",
    "* airplane\n",
    "* automobile\n",
    "* bird\n",
    "* cat\n",
    "* deer\n",
    "* dog\n",
    "* frog\n",
    "* horse\n",
    "* ship\n",
    "* truck"
   ]
  },
  {
   "cell_type": "code",
   "execution_count": 2,
   "metadata": {},
   "outputs": [],
   "source": [
    "((x_train_full, y_train_full), (x_test, y_test)) = tf.keras.datasets.cifar10.load_data()"
   ]
  },
  {
   "cell_type": "code",
   "execution_count": 3,
   "metadata": {},
   "outputs": [
    {
     "data": {
      "text/plain": [
       "<matplotlib.image.AxesImage at 0x1d599873d30>"
      ]
     },
     "execution_count": 3,
     "metadata": {},
     "output_type": "execute_result"
    },
    {
     "data": {
      "image/png": "[encoded data removed]",
      "text/plain": [
       "<Figure size 432x288 with 1 Axes>"
      ]
     },
     "metadata": {
      "needs_background": "light"
     },
     "output_type": "display_data"
    }
   ],
   "source": [
    "## Sample image\n",
    "\n",
    "plt.imshow(x_train_full[:,:,:][1])"
   ]
  },
  {
   "cell_type": "code",
   "execution_count": 4,
   "metadata": {},
   "outputs": [
    {
     "name": "stdout",
     "output_type": "stream",
     "text": [
      "[9]\n"
     ]
    }
   ],
   "source": [
    "## Label of the above image\n",
    "\n",
    "print(y_train_full[1])"
   ]
  },
  {
   "cell_type": "markdown",
   "metadata": {},
   "source": [
    "Here the classes are labelled from 0-9, 0 being airplane and 9 being truck"
   ]
  },
  {
   "cell_type": "code",
   "execution_count": 5,
   "metadata": {},
   "outputs": [
    {
     "data": {
      "text/plain": [
       "(50000, 32, 32, 3)"
      ]
     },
     "execution_count": 5,
     "metadata": {},
     "output_type": "execute_result"
    }
   ],
   "source": [
    "x_train_full.shape"
   ]
  },
  {
   "cell_type": "code",
   "execution_count": 6,
   "metadata": {},
   "outputs": [
    {
     "data": {
      "text/plain": [
       "(10000, 32, 32, 3)"
      ]
     },
     "execution_count": 6,
     "metadata": {},
     "output_type": "execute_result"
    }
   ],
   "source": [
    "x_test.shape"
   ]
  },
  {
   "cell_type": "code",
   "execution_count": 7,
   "metadata": {
    "scrolled": true
   },
   "outputs": [
    {
     "data": {
      "text/plain": [
       "array([[6],\n",
       "       [9],\n",
       "       [9],\n",
       "       ...,\n",
       "       [9],\n",
       "       [1],\n",
       "       [1]], dtype=uint8)"
      ]
     },
     "execution_count": 7,
     "metadata": {},
     "output_type": "execute_result"
    }
   ],
   "source": [
    "y_train_full"
   ]
  },
  {
   "cell_type": "code",
   "execution_count": 8,
   "metadata": {},
   "outputs": [],
   "source": [
    "## Normalizing the data\n",
    "\n",
    "x_train = x_train_full[:40000] / 255\n",
    "x_valid = x_train_full[40000:] / 255\n",
    "\n",
    "x_test = x_test / 255"
   ]
  },
  {
   "cell_type": "code",
   "execution_count": 9,
   "metadata": {},
   "outputs": [
    {
     "data": {
      "text/plain": [
       "(40000, 32, 32, 3)"
      ]
     },
     "execution_count": 9,
     "metadata": {},
     "output_type": "execute_result"
    }
   ],
   "source": [
    "x_train.shape"
   ]
  },
  {
   "cell_type": "code",
   "execution_count": 10,
   "metadata": {},
   "outputs": [
    {
     "data": {
      "text/plain": [
       "(10000, 32, 32, 3)"
      ]
     },
     "execution_count": 10,
     "metadata": {},
     "output_type": "execute_result"
    }
   ],
   "source": [
    "x_test.shape"
   ]
  },
  {
   "cell_type": "code",
   "execution_count": 11,
   "metadata": {},
   "outputs": [],
   "source": [
    "## One hot encoding the labels\n",
    "\n",
    "y_train_full = tf.keras.utils.to_categorical(y_train_full)\n",
    "y_test = tf.keras.utils.to_categorical(y_test)"
   ]
  },
  {
   "cell_type": "code",
   "execution_count": 12,
   "metadata": {},
   "outputs": [],
   "source": [
    "y_train = y_train_full[:40000]\n",
    "y_valid = y_train_full[40000:]"
   ]
  },
  {
   "cell_type": "code",
   "execution_count": 13,
   "metadata": {},
   "outputs": [
    {
     "data": {
      "text/plain": [
       "(40000, 10)"
      ]
     },
     "execution_count": 13,
     "metadata": {},
     "output_type": "execute_result"
    }
   ],
   "source": [
    "y_train.shape"
   ]
  },
  {
   "cell_type": "code",
   "execution_count": 14,
   "metadata": {},
   "outputs": [
    {
     "data": {
      "text/plain": [
       "(40000, 10)"
      ]
     },
     "execution_count": 14,
     "metadata": {},
     "output_type": "execute_result"
    }
   ],
   "source": [
    "y_train.shape"
   ]
  },
  {
   "cell_type": "markdown",
   "metadata": {},
   "source": [
    "### Model Building, Compiling, Training and Evaluating "
   ]
  },
  {
   "cell_type": "markdown",
   "metadata": {},
   "source": [
    "The first neural network we build will be the simplest, in that it has no hidden layers. It takes the image\n",
    "and flatten it to a vector for the input, and then have 10 outputs, one for each class."
   ]
  },
  {
   "cell_type": "code",
   "execution_count": 15,
   "metadata": {},
   "outputs": [],
   "source": [
    "model1 = tf.keras.Sequential([\n",
    "    tf.keras.layers.Flatten(input_shape=(32, 32, 3)),\n",
    "    tf.keras.layers.Dense(10, activation='softmax')\n",
    "])"
   ]
  },
  {
   "cell_type": "code",
   "execution_count": 16,
   "metadata": {},
   "outputs": [
    {
     "name": "stdout",
     "output_type": "stream",
     "text": [
      "Model: \"sequential\"\n",
      "_________________________________________________________________\n",
      "Layer (type)                 Output Shape              Param #   \n",
      "=================================================================\n",
      "flatten (Flatten)            (None, 3072)              0         \n",
      "_________________________________________________________________\n",
      "dense (Dense)                (None, 10)                30730     \n",
      "=================================================================\n",
      "Total params: 30,730\n",
      "Trainable params: 30,730\n",
      "Non-trainable params: 0\n",
      "_________________________________________________________________\n"
     ]
    }
   ],
   "source": [
    "model1.summary()"
   ]
  },
  {
   "cell_type": "code",
   "execution_count": 17,
   "metadata": {},
   "outputs": [],
   "source": [
    "model1.compile(loss=\"categorical_crossentropy\", metrics=['accuracy'], optimizer=\"adam\")"
   ]
  },
  {
   "cell_type": "code",
   "execution_count": 18,
   "metadata": {
    "scrolled": true
   },
   "outputs": [
    {
     "name": "stdout",
     "output_type": "stream",
     "text": [
      "Epoch 1/30\n",
      "1250/1250 [==============================] - 6s 5ms/step - loss: 1.9761 - accuracy: 0.3120 - val_loss: 1.9996 - val_accuracy: 0.3161\n",
      "Epoch 2/30\n",
      "1250/1250 [==============================] - 5s 4ms/step - loss: 1.8876 - accuracy: 0.3466 - val_loss: 1.9180 - val_accuracy: 0.3404\n",
      "Epoch 3/30\n",
      "1250/1250 [==============================] - 5s 4ms/step - loss: 1.8546 - accuracy: 0.3643 - val_loss: 1.9105 - val_accuracy: 0.3430\n",
      "Epoch 4/30\n",
      "1250/1250 [==============================] - 5s 4ms/step - loss: 1.8436 - accuracy: 0.3693 - val_loss: 1.8227 - val_accuracy: 0.3621\n",
      "Epoch 5/30\n",
      "1250/1250 [==============================] - 5s 4ms/step - loss: 1.8286 - accuracy: 0.3711 - val_loss: 1.8169 - val_accuracy: 0.3770\n",
      "Epoch 6/30\n",
      "1250/1250 [==============================] - 5s 4ms/step - loss: 1.8115 - accuracy: 0.3812 - val_loss: 1.8916 - val_accuracy: 0.3532\n",
      "Epoch 7/30\n",
      "1250/1250 [==============================] - 5s 4ms/step - loss: 1.8171 - accuracy: 0.3794 - val_loss: 1.8440 - val_accuracy: 0.3709\n",
      "Epoch 8/30\n",
      "1250/1250 [==============================] - 5s 4ms/step - loss: 1.8046 - accuracy: 0.3841 - val_loss: 1.8047 - val_accuracy: 0.3878\n",
      "Epoch 9/30\n",
      "1250/1250 [==============================] - 5s 4ms/step - loss: 1.7934 - accuracy: 0.3887 - val_loss: 1.9275 - val_accuracy: 0.3642\n",
      "Epoch 10/30\n",
      "1250/1250 [==============================] - 5s 4ms/step - loss: 1.7995 - accuracy: 0.3876 - val_loss: 1.8656 - val_accuracy: 0.3701\n",
      "Epoch 11/30\n",
      "1250/1250 [==============================] - 5s 4ms/step - loss: 1.7865 - accuracy: 0.3892 - val_loss: 1.8130 - val_accuracy: 0.3668\n",
      "Epoch 12/30\n",
      "1250/1250 [==============================] - 6s 5ms/step - loss: 1.7836 - accuracy: 0.3916 - val_loss: 1.8634 - val_accuracy: 0.3581\n",
      "Epoch 13/30\n",
      "1250/1250 [==============================] - 6s 5ms/step - loss: 1.7868 - accuracy: 0.3898 - val_loss: 1.7847 - val_accuracy: 0.3921\n",
      "Epoch 14/30\n",
      "1250/1250 [==============================] - 6s 5ms/step - loss: 1.7795 - accuracy: 0.3938 - val_loss: 1.9276 - val_accuracy: 0.3683\n",
      "Epoch 15/30\n",
      "1250/1250 [==============================] - 9s 7ms/step - loss: 1.7781 - accuracy: 0.3925 - val_loss: 1.8891 - val_accuracy: 0.3464\n",
      "Epoch 16/30\n",
      "1250/1250 [==============================] - 6s 5ms/step - loss: 1.7679 - accuracy: 0.3952 - val_loss: 1.9119 - val_accuracy: 0.3540\n",
      "Epoch 17/30\n",
      "1250/1250 [==============================] - 5s 4ms/step - loss: 1.7705 - accuracy: 0.3977 - val_loss: 1.8224 - val_accuracy: 0.3774\n",
      "Epoch 18/30\n",
      "1250/1250 [==============================] - 5s 4ms/step - loss: 1.7769 - accuracy: 0.3963 - val_loss: 1.8840 - val_accuracy: 0.3662\n",
      "Epoch 19/30\n",
      "1250/1250 [==============================] - 5s 4ms/step - loss: 1.7698 - accuracy: 0.3982 - val_loss: 1.9582 - val_accuracy: 0.3352\n",
      "Epoch 20/30\n",
      "1250/1250 [==============================] - 5s 4ms/step - loss: 1.7629 - accuracy: 0.3970 - val_loss: 1.8056 - val_accuracy: 0.3817\n",
      "Epoch 21/30\n",
      "1250/1250 [==============================] - 6s 4ms/step - loss: 1.7612 - accuracy: 0.4018 - val_loss: 1.8853 - val_accuracy: 0.3653\n",
      "Epoch 22/30\n",
      "1250/1250 [==============================] - 5s 4ms/step - loss: 1.7491 - accuracy: 0.4044 - val_loss: 1.8748 - val_accuracy: 0.3742\n",
      "Epoch 23/30\n",
      "1250/1250 [==============================] - 5s 4ms/step - loss: 1.7593 - accuracy: 0.4019 - val_loss: 1.9585 - val_accuracy: 0.3447\n",
      "Epoch 24/30\n",
      "1250/1250 [==============================] - 5s 4ms/step - loss: 1.7575 - accuracy: 0.4019 - val_loss: 1.9147 - val_accuracy: 0.3589\n",
      "Epoch 25/30\n",
      "1250/1250 [==============================] - 6s 5ms/step - loss: 1.7444 - accuracy: 0.4061 - val_loss: 1.9238 - val_accuracy: 0.3589\n",
      "Epoch 26/30\n",
      "1250/1250 [==============================] - 6s 5ms/step - loss: 1.7569 - accuracy: 0.4013 - val_loss: 1.8598 - val_accuracy: 0.3636\n",
      "Epoch 27/30\n",
      "1250/1250 [==============================] - 5s 4ms/step - loss: 1.7531 - accuracy: 0.4052 - val_loss: 1.9928 - val_accuracy: 0.3710\n",
      "Epoch 28/30\n",
      "1250/1250 [==============================] - 5s 4ms/step - loss: 1.7530 - accuracy: 0.4047 - val_loss: 1.9721 - val_accuracy: 0.3592\n",
      "Epoch 29/30\n",
      "1250/1250 [==============================] - 5s 4ms/step - loss: 1.7494 - accuracy: 0.4052 - val_loss: 1.8193 - val_accuracy: 0.3747\n",
      "Epoch 30/30\n",
      "1250/1250 [==============================] - 5s 4ms/step - loss: 1.7431 - accuracy: 0.4088 - val_loss: 1.9202 - val_accuracy: 0.3581\n"
     ]
    }
   ],
   "source": [
    "history1 = model1.fit(x_train, y_train, epochs=30, validation_data=(x_valid, y_valid), verbose=True, shuffle=True)"
   ]
  },
  {
   "cell_type": "code",
   "execution_count": 23,
   "metadata": {},
   "outputs": [
    {
     "data": {
      "text/plain": [
       "<matplotlib.legend.Legend at 0x1d60c6c9400>"
      ]
     },
     "execution_count": 23,
     "metadata": {},
     "output_type": "execute_result"
    },
    {
     "data": {
      "image/png": "[encoded data removed]",
      "text/plain": [
       "<Figure size 432x288 with 1 Axes>"
      ]
     },
     "metadata": {
      "needs_background": "light"
     },
     "output_type": "display_data"
    }
   ],
   "source": [
    "plt.plot(history1.history['loss'])\n",
    "plt.plot(history1.history['val_loss'])\n",
    "plt.legend(['loss', 'val_loss'])"
   ]
  },
  {
   "cell_type": "code",
   "execution_count": 40,
   "metadata": {},
   "outputs": [
    {
     "data": {
      "text/plain": [
       "<matplotlib.legend.Legend at 0x1d77e20c588>"
      ]
     },
     "execution_count": 40,
     "metadata": {},
     "output_type": "execute_result"
    },
    {
     "data": {
      "image/png": "[encoded data removed]",
      "text/plain": [
       "<Figure size 432x288 with 1 Axes>"
      ]
     },
     "metadata": {
      "needs_background": "light"
     },
     "output_type": "display_data"
    }
   ],
   "source": [
    "plt.plot(history1.history['accuracy'])\n",
    "plt.plot(history1.history['val_accuracy'])\n",
    "plt.yticks(np.arange(0, 1, step=0.2))\n",
    "plt.legend(['accuracy', 'val_accuracy'])"
   ]
  },
  {
   "cell_type": "code",
   "execution_count": 19,
   "metadata": {},
   "outputs": [
    {
     "name": "stdout",
     "output_type": "stream",
     "text": [
      "313/313 [==============================] - 1s 3ms/step - loss: 1.8957 - accuracy: 0.3607\n",
      "Accuracy : 36.07000112533569\n"
     ]
    }
   ],
   "source": [
    "score1 = model1.evaluate(x_test, y_test)\n",
    "\n",
    "print(\"Accuracy :\", score1[1]*100)"
   ]
  },
  {
   "cell_type": "markdown",
   "metadata": {},
   "source": [
    "With no hidden layers we managed to get about 33.26% accuracy on test set and 38% on the training set which was most likely to happen"
   ]
  },
  {
   "cell_type": "markdown",
   "metadata": {},
   "source": [
    "The second neural network we build will be slightly more complicated in that it will have a hidden layer with 300\n",
    "nodes and adds a non-linearity between the layers. It should use the following operations in this\n",
    "order:\n",
    "\n",
    "1. Flatten the image to a vector for the input\n",
    "2. Use a fully-connected linear layer with 300 hidden-neurons\n",
    "3. Use the ReLU activation function\n",
    "4. Use a fully-connected linear layer to the 10 outputs."
   ]
  },
  {
   "cell_type": "code",
   "execution_count": 25,
   "metadata": {},
   "outputs": [],
   "source": [
    "model2 = tf.keras.Sequential([\n",
    "    tf.keras.layers.Flatten(input_shape=(32, 32, 3)),\n",
    "    tf.keras.layers.Dense(300, activation=\"relu\"),\n",
    "    tf.keras.layers.Dense(10, activation='softmax')\n",
    "])"
   ]
  },
  {
   "cell_type": "code",
   "execution_count": 26,
   "metadata": {},
   "outputs": [
    {
     "name": "stdout",
     "output_type": "stream",
     "text": [
      "Model: \"sequential_1\"\n",
      "_________________________________________________________________\n",
      "Layer (type)                 Output Shape              Param #   \n",
      "=================================================================\n",
      "flatten_1 (Flatten)          (None, 3072)              0         \n",
      "_________________________________________________________________\n",
      "dense_1 (Dense)              (None, 300)               921900    \n",
      "_________________________________________________________________\n",
      "dense_2 (Dense)              (None, 10)                3010      \n",
      "=================================================================\n",
      "Total params: 924,910\n",
      "Trainable params: 924,910\n",
      "Non-trainable params: 0\n",
      "_________________________________________________________________\n"
     ]
    }
   ],
   "source": [
    "model2.summary()"
   ]
  },
  {
   "cell_type": "code",
   "execution_count": 27,
   "metadata": {},
   "outputs": [],
   "source": [
    "model2.compile(loss=\"categorical_crossentropy\", metrics=['accuracy'], optimizer=\"adam\")"
   ]
  },
  {
   "cell_type": "code",
   "execution_count": 30,
   "metadata": {},
   "outputs": [
    {
     "name": "stdout",
     "output_type": "stream",
     "text": [
      "Epoch 1/30\n",
      "1250/1250 [==============================] - 6s 4ms/step - loss: 1.5173 - accuracy: 0.4602 - val_loss: 1.5706 - val_accuracy: 0.4436\n",
      "Epoch 2/30\n",
      "1250/1250 [==============================] - 6s 4ms/step - loss: 1.5035 - accuracy: 0.4663 - val_loss: 1.5890 - val_accuracy: 0.4439\n",
      "Epoch 3/30\n",
      "1250/1250 [==============================] - 6s 4ms/step - loss: 1.4984 - accuracy: 0.4675 - val_loss: 1.5734 - val_accuracy: 0.4426\n",
      "Epoch 4/30\n",
      "1250/1250 [==============================] - 6s 5ms/step - loss: 1.4856 - accuracy: 0.4723 - val_loss: 1.5614 - val_accuracy: 0.4483\n",
      "Epoch 5/30\n",
      "1250/1250 [==============================] - 6s 5ms/step - loss: 1.4819 - accuracy: 0.4727 - val_loss: 1.5528 - val_accuracy: 0.4560\n",
      "Epoch 6/30\n",
      "1250/1250 [==============================] - 6s 5ms/step - loss: 1.4775 - accuracy: 0.4742 - val_loss: 1.5625 - val_accuracy: 0.4477\n",
      "Epoch 7/30\n",
      "1250/1250 [==============================] - 6s 4ms/step - loss: 1.4701 - accuracy: 0.4762 - val_loss: 1.5539 - val_accuracy: 0.4543\n",
      "Epoch 8/30\n",
      "1250/1250 [==============================] - 6s 5ms/step - loss: 1.4632 - accuracy: 0.4767 - val_loss: 1.5707 - val_accuracy: 0.4498\n",
      "Epoch 9/30\n",
      "1250/1250 [==============================] - 6s 5ms/step - loss: 1.4528 - accuracy: 0.4806 - val_loss: 1.5695 - val_accuracy: 0.4435\n",
      "Epoch 10/30\n",
      "1250/1250 [==============================] - 6s 4ms/step - loss: 1.4520 - accuracy: 0.4827 - val_loss: 1.6005 - val_accuracy: 0.4334\n",
      "Epoch 11/30\n",
      "1250/1250 [==============================] - 6s 5ms/step - loss: 1.4468 - accuracy: 0.4825 - val_loss: 1.5746 - val_accuracy: 0.4511\n",
      "Epoch 12/30\n",
      "1250/1250 [==============================] - 5s 4ms/step - loss: 1.4409 - accuracy: 0.4874 - val_loss: 1.6192 - val_accuracy: 0.4316\n",
      "Epoch 13/30\n",
      "1250/1250 [==============================] - 6s 5ms/step - loss: 1.4367 - accuracy: 0.4875 - val_loss: 1.5736 - val_accuracy: 0.4502\n",
      "Epoch 14/30\n",
      "1250/1250 [==============================] - 6s 5ms/step - loss: 1.4358 - accuracy: 0.4877 - val_loss: 1.5538 - val_accuracy: 0.4547\n",
      "Epoch 15/30\n",
      "1250/1250 [==============================] - 6s 5ms/step - loss: 1.4275 - accuracy: 0.4902 - val_loss: 1.5563 - val_accuracy: 0.4492\n",
      "Epoch 16/30\n",
      "1250/1250 [==============================] - 6s 5ms/step - loss: 1.4242 - accuracy: 0.4912 - val_loss: 1.5998 - val_accuracy: 0.4401\n",
      "Epoch 17/30\n",
      "1250/1250 [==============================] - 5s 4ms/step - loss: 1.4153 - accuracy: 0.4946 - val_loss: 1.6244 - val_accuracy: 0.4314\n",
      "Epoch 18/30\n",
      "1250/1250 [==============================] - 5s 4ms/step - loss: 1.4179 - accuracy: 0.4940 - val_loss: 1.5823 - val_accuracy: 0.4373\n",
      "Epoch 19/30\n",
      "1250/1250 [==============================] - 5s 4ms/step - loss: 1.4106 - accuracy: 0.4942 - val_loss: 1.5401 - val_accuracy: 0.4580\n",
      "Epoch 20/30\n",
      "1250/1250 [==============================] - 5s 4ms/step - loss: 1.4080 - accuracy: 0.4961 - val_loss: 1.5701 - val_accuracy: 0.4502\n",
      "Epoch 21/30\n",
      "1250/1250 [==============================] - 5s 4ms/step - loss: 1.4041 - accuracy: 0.4984 - val_loss: 1.5725 - val_accuracy: 0.4425\n",
      "Epoch 22/30\n",
      "1250/1250 [==============================] - 5s 4ms/step - loss: 1.4019 - accuracy: 0.4999 - val_loss: 1.5556 - val_accuracy: 0.4496\n",
      "Epoch 23/30\n",
      "1250/1250 [==============================] - 5s 4ms/step - loss: 1.3977 - accuracy: 0.5024 - val_loss: 1.5530 - val_accuracy: 0.4533\n",
      "Epoch 24/30\n",
      "1250/1250 [==============================] - 5s 4ms/step - loss: 1.3935 - accuracy: 0.4992 - val_loss: 1.5567 - val_accuracy: 0.4576\n",
      "Epoch 25/30\n",
      "1250/1250 [==============================] - 6s 5ms/step - loss: 1.3896 - accuracy: 0.5055 - val_loss: 1.5759 - val_accuracy: 0.4553\n",
      "Epoch 26/30\n",
      "1250/1250 [==============================] - 6s 5ms/step - loss: 1.3891 - accuracy: 0.5014 - val_loss: 1.5647 - val_accuracy: 0.4542\n",
      "Epoch 27/30\n",
      "1250/1250 [==============================] - 6s 5ms/step - loss: 1.3881 - accuracy: 0.5051 - val_loss: 1.5569 - val_accuracy: 0.4594\n",
      "Epoch 28/30\n",
      "1250/1250 [==============================] - 5s 4ms/step - loss: 1.3837 - accuracy: 0.5066 - val_loss: 1.5911 - val_accuracy: 0.4509\n",
      "Epoch 29/30\n",
      "1250/1250 [==============================] - 5s 4ms/step - loss: 1.3809 - accuracy: 0.5024 - val_loss: 1.5778 - val_accuracy: 0.4477\n",
      "Epoch 30/30\n",
      "1250/1250 [==============================] - 5s 4ms/step - loss: 1.3848 - accuracy: 0.5028 - val_loss: 1.5439 - val_accuracy: 0.4600\n"
     ]
    }
   ],
   "source": [
    "history2 = model2.fit(x_train, y_train, epochs=30, validation_data=(x_valid, y_valid), verbose=True, shuffle=True)"
   ]
  },
  {
   "cell_type": "code",
   "execution_count": 31,
   "metadata": {},
   "outputs": [
    {
     "data": {
      "text/plain": [
       "<matplotlib.legend.Legend at 0x1d7752a79b0>"
      ]
     },
     "execution_count": 31,
     "metadata": {},
     "output_type": "execute_result"
    },
    {
     "data": {
      "image/png": "[encoded data removed]",
      "text/plain": [
       "<Figure size 432x288 with 1 Axes>"
      ]
     },
     "metadata": {
      "needs_background": "light"
     },
     "output_type": "display_data"
    }
   ],
   "source": [
    "plt.plot(history2.history['loss'])\n",
    "plt.plot(history2.history['val_loss'])\n",
    "plt.legend(['loss', 'val_loss'])"
   ]
  },
  {
   "cell_type": "code",
   "execution_count": 34,
   "metadata": {},
   "outputs": [
    {
     "data": {
      "text/plain": [
       "<matplotlib.legend.Legend at 0x1d7768ae550>"
      ]
     },
     "execution_count": 34,
     "metadata": {},
     "output_type": "execute_result"
    },
    {
     "data": {
      "image/png": "[encoded data removed]",
      "text/plain": [
       "<Figure size 432x288 with 1 Axes>"
      ]
     },
     "metadata": {
      "needs_background": "light"
     },
     "output_type": "display_data"
    }
   ],
   "source": [
    "plt.plot(history2.history['accuracy'])\n",
    "plt.plot(history2.history['val_accuracy'])\n",
    "plt.yticks(np.arange(0, 1, step=0.2))\n",
    "plt.legend(['accuracy', 'val_accuracy'])"
   ]
  },
  {
   "cell_type": "code",
   "execution_count": 35,
   "metadata": {},
   "outputs": [
    {
     "name": "stdout",
     "output_type": "stream",
     "text": [
      "313/313 [==============================] - 1s 4ms/step - loss: 1.5282 - accuracy: 0.4615\n",
      "Accuracy : 46.149998903274536\n"
     ]
    }
   ],
   "source": [
    "score2 = model2.evaluate(x_test, y_test)\n",
    "\n",
    "print(\"Accuracy :\", score2[1]*100)"
   ]
  },
  {
   "cell_type": "markdown",
   "metadata": {},
   "source": [
    "Even after slightly increasing the complexity of the model we got around 41.12% accuracy on test set and and 46% on the training set which is not a huge improvement "
   ]
  },
  {
   "cell_type": "markdown",
   "metadata": {},
   "source": [
    "Finally to prove our point we will be building a simple convolutional neural network. It should use the following\n",
    "operations in this order:\n",
    "       \n",
    "1. Use a convolution layer with kernel-width 5 and depth 25\n",
    "2. Use the ReLU activation function\n",
    "3. Use a max-pool operation with kernel-width 2 and stride 2\n",
    "4. Flatten the image to a vector for the next step's input\n",
    "5. Use a fully-connected linear layer to the 10 outputs."
   ]
  },
  {
   "cell_type": "code",
   "execution_count": 36,
   "metadata": {},
   "outputs": [],
   "source": [
    "model3 = tf.keras.Sequential([\n",
    "    tf.keras.layers.Conv2D(25, kernel_size=5, input_shape=(32, 32, 3), activation='relu'),\n",
    "    tf.keras.layers.MaxPool2D(pool_size=2, strides=2),\n",
    "    tf.keras.layers.Flatten(),\n",
    "    tf.keras.layers.Dense(10, activation='softmax')\n",
    "])"
   ]
  },
  {
   "cell_type": "code",
   "execution_count": 37,
   "metadata": {},
   "outputs": [
    {
     "name": "stdout",
     "output_type": "stream",
     "text": [
      "Model: \"sequential_2\"\n",
      "_________________________________________________________________\n",
      "Layer (type)                 Output Shape              Param #   \n",
      "=================================================================\n",
      "conv2d (Conv2D)              (None, 28, 28, 25)        1900      \n",
      "_________________________________________________________________\n",
      "max_pooling2d (MaxPooling2D) (None, 14, 14, 25)        0         \n",
      "_________________________________________________________________\n",
      "flatten_2 (Flatten)          (None, 4900)              0         \n",
      "_________________________________________________________________\n",
      "dense_3 (Dense)              (None, 10)                49010     \n",
      "=================================================================\n",
      "Total params: 50,910\n",
      "Trainable params: 50,910\n",
      "Non-trainable params: 0\n",
      "_________________________________________________________________\n"
     ]
    }
   ],
   "source": [
    "model3.summary()"
   ]
  },
  {
   "cell_type": "code",
   "execution_count": 38,
   "metadata": {},
   "outputs": [],
   "source": [
    "model3.compile(loss=\"categorical_crossentropy\", metrics=['accuracy'], optimizer=\"adam\")"
   ]
  },
  {
   "cell_type": "code",
   "execution_count": 39,
   "metadata": {},
   "outputs": [
    {
     "name": "stdout",
     "output_type": "stream",
     "text": [
      "Epoch 1/30\n",
      "1250/1250 [==============================] - 9s 7ms/step - loss: 1.5528 - accuracy: 0.4496 - val_loss: 1.3685 - val_accuracy: 0.5234\n",
      "Epoch 2/30\n",
      "1250/1250 [==============================] - 6s 5ms/step - loss: 1.2898 - accuracy: 0.5514 - val_loss: 1.2678 - val_accuracy: 0.5641\n",
      "Epoch 3/30\n",
      "1250/1250 [==============================] - 6s 5ms/step - loss: 1.1805 - accuracy: 0.5895 - val_loss: 1.1662 - val_accuracy: 0.6026\n",
      "Epoch 4/30\n",
      "1250/1250 [==============================] - 7s 5ms/step - loss: 1.1064 - accuracy: 0.6161 - val_loss: 1.2092 - val_accuracy: 0.5802\n",
      "Epoch 5/30\n",
      "1250/1250 [==============================] - 6s 5ms/step - loss: 1.0483 - accuracy: 0.6378 - val_loss: 1.1157 - val_accuracy: 0.6238\n",
      "Epoch 6/30\n",
      "1250/1250 [==============================] - 5s 4ms/step - loss: 1.0133 - accuracy: 0.6511 - val_loss: 1.1458 - val_accuracy: 0.6136\n",
      "Epoch 7/30\n",
      "1250/1250 [==============================] - 7s 5ms/step - loss: 0.9731 - accuracy: 0.6647 - val_loss: 1.1215 - val_accuracy: 0.6244\n",
      "Epoch 8/30\n",
      "1250/1250 [==============================] - 10s 8ms/step - loss: 0.9412 - accuracy: 0.6757 - val_loss: 1.1196 - val_accuracy: 0.6256\n",
      "Epoch 9/30\n",
      "1250/1250 [==============================] - 10s 8ms/step - loss: 0.9233 - accuracy: 0.6812 - val_loss: 1.1714 - val_accuracy: 0.6045\n",
      "Epoch 10/30\n",
      "1250/1250 [==============================] - 10s 8ms/step - loss: 0.8999 - accuracy: 0.6878 - val_loss: 1.1356 - val_accuracy: 0.6162\n",
      "Epoch 11/30\n",
      "1250/1250 [==============================] - 9s 7ms/step - loss: 0.8770 - accuracy: 0.6962 - val_loss: 1.1279 - val_accuracy: 0.6209\n",
      "Epoch 12/30\n",
      "1250/1250 [==============================] - 10s 8ms/step - loss: 0.8547 - accuracy: 0.7054 - val_loss: 1.1367 - val_accuracy: 0.6233\n",
      "Epoch 13/30\n",
      "1250/1250 [==============================] - 10s 8ms/step - loss: 0.8392 - accuracy: 0.7107 - val_loss: 1.2835 - val_accuracy: 0.5778\n",
      "Epoch 14/30\n",
      "1250/1250 [==============================] - 8s 6ms/step - loss: 0.8227 - accuracy: 0.7161 - val_loss: 1.1381 - val_accuracy: 0.6251\n",
      "Epoch 15/30\n",
      "1250/1250 [==============================] - 7s 6ms/step - loss: 0.8033 - accuracy: 0.7212 - val_loss: 1.1337 - val_accuracy: 0.6334\n",
      "Epoch 16/30\n",
      "1250/1250 [==============================] - 7s 5ms/step - loss: 0.7814 - accuracy: 0.7295 - val_loss: 1.1906 - val_accuracy: 0.6154\n",
      "Epoch 17/30\n",
      "1250/1250 [==============================] - 7s 5ms/step - loss: 0.7748 - accuracy: 0.7315 - val_loss: 1.1744 - val_accuracy: 0.6189\n",
      "Epoch 18/30\n",
      "1250/1250 [==============================] - 7s 5ms/step - loss: 0.7614 - accuracy: 0.7335 - val_loss: 1.1775 - val_accuracy: 0.6269\n",
      "Epoch 19/30\n",
      "1250/1250 [==============================] - 6s 5ms/step - loss: 0.7467 - accuracy: 0.7424 - val_loss: 1.1840 - val_accuracy: 0.6276\n",
      "Epoch 20/30\n",
      "1250/1250 [==============================] - 6s 5ms/step - loss: 0.7311 - accuracy: 0.7466 - val_loss: 1.2198 - val_accuracy: 0.6229\n",
      "Epoch 21/30\n",
      "1250/1250 [==============================] - 6s 5ms/step - loss: 0.7185 - accuracy: 0.7508 - val_loss: 1.1849 - val_accuracy: 0.6280\n",
      "Epoch 22/30\n",
      "1250/1250 [==============================] - 6s 5ms/step - loss: 0.7145 - accuracy: 0.7479 - val_loss: 1.2272 - val_accuracy: 0.6241\n",
      "Epoch 23/30\n",
      "1250/1250 [==============================] - 6s 5ms/step - loss: 0.6984 - accuracy: 0.7574 - val_loss: 1.2466 - val_accuracy: 0.6208\n",
      "Epoch 24/30\n",
      "1250/1250 [==============================] - 6s 5ms/step - loss: 0.6848 - accuracy: 0.7621 - val_loss: 1.2356 - val_accuracy: 0.6255\n",
      "Epoch 25/30\n",
      "1250/1250 [==============================] - 6s 5ms/step - loss: 0.6789 - accuracy: 0.7662 - val_loss: 1.3155 - val_accuracy: 0.6113\n",
      "Epoch 26/30\n",
      "1250/1250 [==============================] - 6s 5ms/step - loss: 0.6701 - accuracy: 0.7678 - val_loss: 1.2689 - val_accuracy: 0.6152\n",
      "Epoch 27/30\n",
      "1250/1250 [==============================] - 6s 5ms/step - loss: 0.6622 - accuracy: 0.7687 - val_loss: 1.3383 - val_accuracy: 0.6098\n",
      "Epoch 28/30\n",
      "1250/1250 [==============================] - 6s 5ms/step - loss: 0.6521 - accuracy: 0.7723 - val_loss: 1.2993 - val_accuracy: 0.6206\n",
      "Epoch 29/30\n",
      "1250/1250 [==============================] - 6s 5ms/step - loss: 0.6420 - accuracy: 0.7757 - val_loss: 1.3184 - val_accuracy: 0.6225\n",
      "Epoch 30/30\n",
      "1250/1250 [==============================] - 6s 5ms/step - loss: 0.6353 - accuracy: 0.7781 - val_loss: 1.3551 - val_accuracy: 0.6182\n"
     ]
    }
   ],
   "source": [
    "history3 = model3.fit(x_train, y_train, epochs=30, validation_data=(x_valid, y_valid))"
   ]
  },
  {
   "cell_type": "code",
   "execution_count": 41,
   "metadata": {},
   "outputs": [
    {
     "data": {
      "text/plain": [
       "<matplotlib.legend.Legend at 0x1d77dc67c50>"
      ]
     },
     "execution_count": 41,
     "metadata": {},
     "output_type": "execute_result"
    },
    {
     "data": {
      "image/png": "[encoded data removed]",
      "text/plain": [
       "<Figure size 432x288 with 1 Axes>"
      ]
     },
     "metadata": {
      "needs_background": "light"
     },
     "output_type": "display_data"
    }
   ],
   "source": [
    "plt.plot(history3.history['loss'])\n",
    "plt.plot(history3.history['val_loss'])\n",
    "plt.legend(['loss', 'val_loss'])"
   ]
  },
  {
   "cell_type": "code",
   "execution_count": 42,
   "metadata": {},
   "outputs": [
    {
     "data": {
      "text/plain": [
       "<matplotlib.legend.Legend at 0x1d7a7d42fd0>"
      ]
     },
     "execution_count": 42,
     "metadata": {},
     "output_type": "execute_result"
    },
    {
     "data": {
      "image/png": "[encoded data removed]",
      "text/plain": [
       "<Figure size 432x288 with 1 Axes>"
      ]
     },
     "metadata": {
      "needs_background": "light"
     },
     "output_type": "display_data"
    }
   ],
   "source": [
    "plt.plot(history3.history['accuracy'])\n",
    "plt.plot(history3.history['val_accuracy'])\n",
    "plt.legend(['accuracy', 'val_accuracy'])"
   ]
  },
  {
   "cell_type": "code",
   "execution_count": 43,
   "metadata": {},
   "outputs": [
    {
     "name": "stdout",
     "output_type": "stream",
     "text": [
      "313/313 [==============================] - 1s 4ms/step - loss: 1.3792 - accuracy: 0.6025\n",
      "Accuracy : 60.25000214576721\n"
     ]
    }
   ],
   "source": [
    "score3 = model3.evaluate(x_test, y_test)\n",
    "\n",
    "print(\"Accuracy :\", score3[1]*100)"
   ]
  },
  {
   "cell_type": "markdown",
   "metadata": {},
   "source": [
    "Clearly CNNs outperform ANNs when it comes to image classification tasks"
   ]
  },
  {
   "cell_type": "code",
   "execution_count": null,
   "metadata": {},
   "outputs": [],
   "source": []
  }
 ],
 "metadata": {
  "kernelspec": {
   "display_name": "TensorFlow-GPU",
   "language": "python",
   "name": "tensorflow_gpu"
  },
  "language_info": {
   "codemirror_mode": {
    "name": "ipython",
    "version": 3
   },
   "file_extension": ".py",
   "mimetype": "text/x-python",
   "name": "python",
   "nbconvert_exporter": "python",
   "pygments_lexer": "ipython3",
   "version": "3.6.12"
  }
 },
 "nbformat": 4,
 "nbformat_minor": 2
}
